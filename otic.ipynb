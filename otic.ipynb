{
 "cells": [
  {
   "cell_type": "markdown",
   "id": "72e784af",
   "metadata": {},
   "source": [
    "Practicing some data extraction, preparation, modeling, visualization and analysis."
   ]
  },
  {
   "cell_type": "code",
   "execution_count": 1,
   "id": "708f0afb",
   "metadata": {},
   "outputs": [
    {
     "name": "stdout",
     "output_type": "stream",
     "text": [
      "\n",
      "Here is a head for the dataset\n",
      "   person_age  person_income person_home_ownership  person_emp_length  \\\n",
      "0          22          59000                  RENT              123.0   \n",
      "1          21           9600                   OWN                5.0   \n",
      "2          25           9600              MORTGAGE                1.0   \n",
      "3          23          65500                  RENT                4.0   \n",
      "4          24          54400                  RENT                8.0   \n",
      "\n",
      "  loan_intent loan_grade  loan_amnt  loan_int_rate  loan_status  \\\n",
      "0    PERSONAL          D      35000          16.02            1   \n",
      "1   EDUCATION          B       1000          11.14            0   \n",
      "2     MEDICAL          C       5500          12.87            1   \n",
      "3     MEDICAL          C      35000          15.23            1   \n",
      "4     MEDICAL          C      35000          14.27            1   \n",
      "\n",
      "   loan_percent_income cb_person_default_on_file  cb_person_cred_hist_length  \n",
      "0                 0.59                         Y                           3  \n",
      "1                 0.10                         N                           2  \n",
      "2                 0.57                         N                           3  \n",
      "3                 0.53                         N                           2  \n",
      "4                 0.55                         Y                           4  \n",
      "\n",
      "Here is the description of the dataset\n",
      "         person_age  person_income  person_emp_length     loan_amnt  \\\n",
      "count  32581.000000   3.258100e+04       31686.000000  32581.000000   \n",
      "mean      27.734600   6.607485e+04           4.789686   9589.371106   \n",
      "std        6.348078   6.198312e+04           4.142630   6322.086646   \n",
      "min       20.000000   4.000000e+03           0.000000    500.000000   \n",
      "25%       23.000000   3.850000e+04           2.000000   5000.000000   \n",
      "50%       26.000000   5.500000e+04           4.000000   8000.000000   \n",
      "75%       30.000000   7.920000e+04           7.000000  12200.000000   \n",
      "max      144.000000   6.000000e+06         123.000000  35000.000000   \n",
      "\n",
      "       loan_int_rate   loan_status  loan_percent_income  \\\n",
      "count   29465.000000  32581.000000         32581.000000   \n",
      "mean       11.011695      0.218164             0.170203   \n",
      "std         3.240459      0.413006             0.106782   \n",
      "min         5.420000      0.000000             0.000000   \n",
      "25%         7.900000      0.000000             0.090000   \n",
      "50%        10.990000      0.000000             0.150000   \n",
      "75%        13.470000      0.000000             0.230000   \n",
      "max        23.220000      1.000000             0.830000   \n",
      "\n",
      "       cb_person_cred_hist_length  \n",
      "count                32581.000000  \n",
      "mean                     5.804211  \n",
      "std                      4.055001  \n",
      "min                      2.000000  \n",
      "25%                      3.000000  \n",
      "50%                      4.000000  \n",
      "75%                      8.000000  \n",
      "max                     30.000000  \n",
      "\n",
      "Here is the dataset shape i.e rows and columns\n",
      "(32581, 12)\n",
      "\n",
      "Here is the information of the dataset\n",
      "<class 'pandas.core.frame.DataFrame'>\n",
      "RangeIndex: 32581 entries, 0 to 32580\n",
      "Data columns (total 12 columns):\n",
      " #   Column                      Non-Null Count  Dtype  \n",
      "---  ------                      --------------  -----  \n",
      " 0   person_age                  32581 non-null  int64  \n",
      " 1   person_income               32581 non-null  int64  \n",
      " 2   person_home_ownership       32581 non-null  object \n",
      " 3   person_emp_length           31686 non-null  float64\n",
      " 4   loan_intent                 32581 non-null  object \n",
      " 5   loan_grade                  32581 non-null  object \n",
      " 6   loan_amnt                   32581 non-null  int64  \n",
      " 7   loan_int_rate               29465 non-null  float64\n",
      " 8   loan_status                 32581 non-null  int64  \n",
      " 9   loan_percent_income         32581 non-null  float64\n",
      " 10  cb_person_default_on_file   32581 non-null  object \n",
      " 11  cb_person_cred_hist_length  32581 non-null  int64  \n",
      "dtypes: float64(3), int64(5), object(4)\n",
      "memory usage: 3.0+ MB\n",
      "None\n",
      "\n",
      "Here is the dataset columns\n",
      "Index(['person_age', 'person_income', 'person_home_ownership',\n",
      "       'person_emp_length', 'loan_intent', 'loan_grade', 'loan_amnt',\n",
      "       'loan_int_rate', 'loan_status', 'loan_percent_income',\n",
      "       'cb_person_default_on_file', 'cb_person_cred_hist_length'],\n",
      "      dtype='object')\n"
     ]
    }
   ],
   "source": [
    "import numpy as np\n",
    "import pandas as pd\n",
    "\n",
    "file = pd.read_csv('C:/Users/JOHN PAUL/Desktop/otic/credit_risk_dataset.csv')\n",
    "\n",
    "print(\"\\nHere is a head for the dataset\")\n",
    "print(file.head())\n",
    "\n",
    "print(\"\\nHere is the description of the dataset\")\n",
    "print(file.describe())\n",
    "\n",
    "print(\"\\nHere is the dataset shape i.e rows and columns\")\n",
    "print(file.shape)\n",
    "\n",
    "print(\"\\nHere is the information of the dataset\")\n",
    "print(file.info())\n",
    "\n",
    "print(\"\\nHere is the dataset columns\")\n",
    "print(file.columns)\n",
    "\n"
   ]
  },
  {
   "cell_type": "code",
   "execution_count": 2,
   "id": "5186868d",
   "metadata": {},
   "outputs": [
    {
     "name": "stdout",
     "output_type": "stream",
     "text": [
      "\n",
      "Here is the sum of columns with and without data\n",
      "person_age                       0\n",
      "person_income                    0\n",
      "person_home_ownership            0\n",
      "person_emp_length              895\n",
      "loan_intent                      0\n",
      "loan_grade                       0\n",
      "loan_amnt                        0\n",
      "loan_int_rate                 3116\n",
      "loan_status                      0\n",
      "loan_percent_income              0\n",
      "cb_person_default_on_file        0\n",
      "cb_person_cred_hist_length       0\n",
      "dtype: int64\n"
     ]
    }
   ],
   "source": [
    "print(\"\\nHere is the sum of columns with and without data\")\n",
    "print(file.isnull().sum())"
   ]
  },
  {
   "cell_type": "code",
   "execution_count": 3,
   "id": "b4f32a5a",
   "metadata": {},
   "outputs": [
    {
     "name": "stdout",
     "output_type": "stream",
     "text": [
      "\n",
      "The mean for person_emp_length\n",
      "4.789686296787225\n",
      "\n",
      "The mean for loan_int_rate\n",
      "11.011694892245036\n"
     ]
    }
   ],
   "source": [
    "print(\"\\nThe mean for person_emp_length\")\n",
    "print(file[\"person_emp_length\"].mean())\n",
    "\n",
    "print(\"\\nThe mean for loan_int_rate\")\n",
    "print(file[\"loan_int_rate\"].mean())"
   ]
  },
  {
   "cell_type": "code",
   "execution_count": 4,
   "id": "d77e21aa",
   "metadata": {},
   "outputs": [
    {
     "name": "stdout",
     "output_type": "stream",
     "text": [
      "The median for person_emp_lenght is 4.00\n",
      "The median for loan_int_rate is 10.99\n"
     ]
    }
   ],
   "source": [
    "median1 = file[\"person_emp_length\"].median()\n",
    "print(f\"The median for person_emp_lenght is {median1:.2f}\")\n",
    "\n",
    "median2 = file[\"loan_int_rate\"].median()\n",
    "print(f\"The median for loan_int_rate is {median2:.2f}\")"
   ]
  },
  {
   "cell_type": "code",
   "execution_count": 5,
   "id": "cb40111e",
   "metadata": {},
   "outputs": [
    {
     "data": {
      "text/plain": [
       "person_age\n",
       "23     3889\n",
       "22     3633\n",
       "24     3549\n",
       "25     3037\n",
       "26     2477\n",
       "27     2138\n",
       "28     1854\n",
       "29     1687\n",
       "30     1316\n",
       "21     1229\n",
       "31     1142\n",
       "32      964\n",
       "33      856\n",
       "34      709\n",
       "35      620\n",
       "36      548\n",
       "37      478\n",
       "38      373\n",
       "39      302\n",
       "40      271\n",
       "41      241\n",
       "42      188\n",
       "43      164\n",
       "44      141\n",
       "45      108\n",
       "46       94\n",
       "47       94\n",
       "48       75\n",
       "50       52\n",
       "49       49\n",
       "51       39\n",
       "52       36\n",
       "53       30\n",
       "54       24\n",
       "55       20\n",
       "58       19\n",
       "20       15\n",
       "60       15\n",
       "56       15\n",
       "57       15\n",
       "65        9\n",
       "61        9\n",
       "66        9\n",
       "70        7\n",
       "62        7\n",
       "64        7\n",
       "59        5\n",
       "69        5\n",
       "63        3\n",
       "144       3\n",
       "73        3\n",
       "123       2\n",
       "78        1\n",
       "94        1\n",
       "80        1\n",
       "84        1\n",
       "76        1\n",
       "67        1\n",
       "Name: count, dtype: int64"
      ]
     },
     "execution_count": 5,
     "metadata": {},
     "output_type": "execute_result"
    }
   ],
   "source": [
    "file[\"person_age\"].value_counts()"
   ]
  },
  {
   "cell_type": "code",
   "execution_count": 9,
   "id": "f7864de3",
   "metadata": {},
   "outputs": [
    {
     "data": {
      "text/plain": [
       "<Axes: xlabel='person_age'>"
      ]
     },
     "execution_count": 9,
     "metadata": {},
     "output_type": "execute_result"
    },
    {
     "data": {
      "image/png": "[encoded data removed]",
      "text/plain": [
       "<Figure size 640x480 with 1 Axes>"
      ]
     },
     "metadata": {},
     "output_type": "display_data"
    }
   ],
   "source": [
    "file[\"person_age\"].value_counts().plot(kind='bar')"
   ]
  }
 ],
 "metadata": {
  "kernelspec": {
   "display_name": "Python 3",
   "language": "python",
   "name": "python3"
  },
  "language_info": {
   "codemirror_mode": {
    "name": "ipython",
    "version": 3
   },
   "file_extension": ".py",
   "mimetype": "text/x-python",
   "name": "python",
   "nbconvert_exporter": "python",
   "pygments_lexer": "ipython3",
   "version": "3.13.2"
  }
 },
 "nbformat": 4,
 "nbformat_minor": 5
}
